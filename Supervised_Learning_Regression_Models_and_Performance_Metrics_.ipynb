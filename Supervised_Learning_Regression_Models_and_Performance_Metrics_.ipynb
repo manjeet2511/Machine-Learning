{
  "nbformat": 4,
  "nbformat_minor": 0,
  "metadata": {
    "colab": {
      "provenance": []
    },
    "kernelspec": {
      "name": "python3",
      "display_name": "Python 3"
    },
    "language_info": {
      "name": "python"
    }
  },
  "cells": [
    {
      "cell_type": "markdown",
      "source": [
        "#Question 1 : What is Simple Linear Regression(SLR)? Explain its purpose.\n",
        "**Ans:-** Simple Linear Regression is a statistical method used to model the relationship between a single independent variable (predictor) and a dependent variable (response) by fitting a straight line (regression line) to the observed data points. Its purpose is to predict the value of the dependent variable based on the value of the independent variable and to understand the strength and direction of their relationship.\n",
        "\n",
        "#Question 2: What are the key assumptions of Simple Linear Regression?\n",
        "**Ans:-** Linearity: The relationship between the independent and dependent variables is linear.\n",
        "\n",
        "Independence: The residuals (errors) are independent.\n",
        "\n",
        "Homoscedasticity: The residuals have constant variance at all levels of the independent variable.\n",
        "\n",
        "Normality: The residuals are normally distributed.\n",
        "\n",
        "#Question 3: Write the mathematical equation for a simple linear regression model and explain each term.\n",
        "**Ans:-** The equation is:\n",
        "\n",
        "y=β0+β1x+ϵ\n",
        "\n",
        "y: Dependent variable (response)\n",
        "\n",
        "x: Independent variable (predictor)\n",
        "\n",
        "β0: Intercept (constant)\n",
        "\n",
        "β1: Slope (coefficient)\n",
        "\n",
        "ϵ: Error term\n",
        "\n",
        "#Question 4: Provide a real-world example where simple linear regression can be applied.\n",
        "**Ans:-** A practical real-world example of simple linear regression is predicting the price of a house based on its size. In real estate, it is common to observe that larger houses tend to have higher prices, suggesting a roughly linear relationship between house size (independent variable) and price (dependent variable). By collecting data on various houses, such as their sizes in square feet and corresponding selling prices, a simple linear regression model can be built to estimate how much the price increases for each additional square foot. For instance, if the model finds that price increases by $100 for every extra square foot, a 2,000 sq ft house would be expected to cost around $200,000 more than a 0 sq ft house (the intercept representing the base value). This type of analysis helps real estate agents, buyers, and sellers make data-driven predictions about property values.\n",
        "\n",
        "#Question 5: What is the method of least squares in linear regression?\n",
        "**Ans:-** The method of least squares is an approach to find the line of best fit by minimizing the sum of the squared differences between the observed values and the values predicted by the linear model.\n",
        "\n",
        "#Question 6: What is Logistic Regression? How does it differ from Linear Regression?\n",
        "**Ans:-** Logistic Regression is used for classification problems (especially binary). It estimates the probability that a data point belongs to a certain category. Unlike Linear Regression (predicts continuous outcomes), Logistic Regression predicts the likelihood of a categorical outcome (such as yes/no) using the logistic function.\n",
        "\n",
        "#Question 7: Name and briefly describe three common evaluation metrics for regression models.\n",
        "**Ans:-** Mean Squared Error (MSE): The average of the squares of the errors between actual and predicted values.\n",
        "\n",
        "Mean Absolute Error (MAE): The average of the absolute differences between actual and predicted values.\n",
        "\n",
        "R-squared (R^2): The proportion of the variance in the dependent variable that is predictable from the independent variable(s).\n",
        "\n",
        "#Question 8: What is the purpose of the R-squared metric in regression analysis?\n",
        "**Ans:-** R-squared measures how well the regression model fits the data. It is the proportion of variance in the dependent variable explained by the independent variable(s); values range from 0 to 1 where higher is better.\n"
      ],
      "metadata": {
        "id": "t_rdAgX2ZUdg"
      }
    },
    {
      "cell_type": "code",
      "source": [
        "# Question 9: Write Python code to fit a simple linear regression model using scikit-learn and print the slope and intercept.\n",
        "\n",
        "from sklearn.linear_model import LinearRegression\n",
        "import numpy as np\n",
        "\n",
        "# Example data\n",
        "X = np.array([1, 2, 3, 4, 5]).reshape(-1, 1)\n",
        "y = np.array([2, 4, 5, 4, 5])\n",
        "model = LinearRegression()\n",
        "model.fit(X, y)\n",
        "print(\"Slope:\", model.coef_[0])\n",
        "print(\"Intercept:\", model.intercept_)"
      ],
      "metadata": {
        "colab": {
          "base_uri": "https://localhost:8080/"
        },
        "id": "cUNeqSXcbzid",
        "outputId": "467b0863-205a-4f6c-bb91-b9bd6e0515b0"
      },
      "execution_count": 1,
      "outputs": [
        {
          "output_type": "stream",
          "name": "stdout",
          "text": [
            "Slope: 0.6\n",
            "Intercept: 2.2\n"
          ]
        }
      ]
    },
    {
      "cell_type": "markdown",
      "source": [
        "#Question 10: How do you interpret the coefficients in a simple linear regression model?\n",
        "\n",
        "**Ans:-** The slope (β1) represents the change in the dependent variable for a one-unit change in the independent variable. The intercept (β0) is the predicted value of the dependent variable when the independent variable is zero."
      ],
      "metadata": {
        "id": "uzYg0YdZcCFU"
      }
    }
  ]
}